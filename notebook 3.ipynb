{
 "cells": [
  {
   "cell_type": "code",
   "execution_count": 1,
   "id": "c03d2ca0-8bef-427c-a936-f0253143901c",
   "metadata": {},
   "outputs": [
    {
     "data": {
      "text/plain": [
       "['apple', 100, 'banana', 5, 'cherry', 46, 'banana']"
      ]
     },
     "execution_count": 1,
     "metadata": {},
     "output_type": "execute_result"
    }
   ],
   "source": [
    "#List creation [] ()\n",
    "l1= [\"apple\",100,\"banana\",5,\"cherry\",46,\"banana\"]\n",
    "l1"
   ]
  },
  {
   "cell_type": "code",
   "execution_count": 2,
   "id": "2e7a40f4-110d-4d6f-8419-cf2f059cecb5",
   "metadata": {},
   "outputs": [
    {
     "data": {
      "text/plain": [
       "list"
      ]
     },
     "execution_count": 2,
     "metadata": {},
     "output_type": "execute_result"
    }
   ],
   "source": [
    "type(l1)"
   ]
  },
  {
   "cell_type": "code",
   "execution_count": 3,
   "id": "020eb3b9-1024-4d47-884e-2c3e6e160c1a",
   "metadata": {},
   "outputs": [],
   "source": [
    "# empty list\n",
    "my_list = []"
   ]
  },
  {
   "cell_type": "code",
   "execution_count": 4,
   "id": "1b8bb102-415b-4509-87d8-78c4266b1343",
   "metadata": {},
   "outputs": [
    {
     "data": {
      "text/plain": [
       "[]"
      ]
     },
     "execution_count": 4,
     "metadata": {},
     "output_type": "execute_result"
    }
   ],
   "source": [
    "my_list"
   ]
  },
  {
   "cell_type": "code",
   "execution_count": 5,
   "id": "c7ca9e7e-6a19-4b52-b372-27098c021d96",
   "metadata": {},
   "outputs": [],
   "source": [
    "#list of integers\n",
    "my_list = [3,4,6]"
   ]
  },
  {
   "cell_type": "code",
   "execution_count": 6,
   "id": "67089aa6-0494-4838-a5e9-07f1d3aaec4e",
   "metadata": {},
   "outputs": [
    {
     "data": {
      "text/plain": [
       "[3, 4, 6]"
      ]
     },
     "execution_count": 6,
     "metadata": {},
     "output_type": "execute_result"
    }
   ],
   "source": [
    "my_list"
   ]
  },
  {
   "cell_type": "code",
   "execution_count": 7,
   "id": "0437193a-68e7-48cc-b417-ff54fc39e97a",
   "metadata": {},
   "outputs": [],
   "source": [
    "#List with mixed datatypes\n",
    "my_list=[2,\"Hello\",5.5]"
   ]
  },
  {
   "cell_type": "code",
   "execution_count": 8,
   "id": "3527a959-06b2-4bc5-9f07-f9c9e27ae41a",
   "metadata": {},
   "outputs": [
    {
     "data": {
      "text/plain": [
       "[2, 'Hello', 5.5]"
      ]
     },
     "execution_count": 8,
     "metadata": {},
     "output_type": "execute_result"
    }
   ],
   "source": [
    "my_list"
   ]
  },
  {
   "cell_type": "code",
   "execution_count": 9,
   "id": "64f7847a-7211-4f0f-a1bd-b6e1e28e3194",
   "metadata": {},
   "outputs": [],
   "source": [
    "#nested list\n",
    "my_list = [[\"mouse\",7,3],8,['a']]"
   ]
  },
  {
   "cell_type": "code",
   "execution_count": 10,
   "id": "97a62a67-794e-464b-b321-d814fbc2828c",
   "metadata": {},
   "outputs": [
    {
     "data": {
      "text/plain": [
       "[['mouse', 7, 3], 8, ['a']]"
      ]
     },
     "execution_count": 10,
     "metadata": {},
     "output_type": "execute_result"
    }
   ],
   "source": [
    "my_list"
   ]
  },
  {
   "cell_type": "code",
   "execution_count": 11,
   "id": "3e0cba3b-9933-4686-bd03-87df52997500",
   "metadata": {},
   "outputs": [
    {
     "data": {
      "text/plain": [
       "'apple'"
      ]
     },
     "execution_count": 11,
     "metadata": {},
     "output_type": "execute_result"
    }
   ],
   "source": [
    "#Accesing the items\n",
    "#You access the list items by refering to the index number\n",
    "l1[0]"
   ]
  },
  {
   "cell_type": "code",
   "execution_count": 12,
   "id": "54b5df7b-0641-466a-bce5-2d4ef5767bbb",
   "metadata": {},
   "outputs": [],
   "source": [
    "my_list = ['h','t','e','t','a']"
   ]
  },
  {
   "cell_type": "code",
   "execution_count": 14,
   "id": "7b139f87-a149-4523-bbf9-d05af051f508",
   "metadata": {},
   "outputs": [
    {
     "data": {
      "text/plain": [
       "'t'"
      ]
     },
     "execution_count": 14,
     "metadata": {},
     "output_type": "execute_result"
    }
   ],
   "source": [
    "#+ve indexing stsrting start from zero\n",
    "#-ve indexing starting from -1\n",
    "my_list[-2]"
   ]
  },
  {
   "cell_type": "code",
   "execution_count": 15,
   "id": "15b2d5d7-5d67-4f91-93e4-dca4ade5f031",
   "metadata": {},
   "outputs": [
    {
     "data": {
      "text/plain": [
       "['h', 't', 'e', 't', 'a']"
      ]
     },
     "execution_count": 15,
     "metadata": {},
     "output_type": "execute_result"
    }
   ],
   "source": [
    "my_list[:] #start: include and end:exclude"
   ]
  },
  {
   "cell_type": "code",
   "execution_count": 16,
   "id": "57a43d84-8271-40c9-ae7b-fe11e217c17e",
   "metadata": {},
   "outputs": [
    {
     "data": {
      "text/plain": [
       "'e'"
      ]
     },
     "execution_count": 16,
     "metadata": {},
     "output_type": "execute_result"
    }
   ],
   "source": [
    "my_list[2]"
   ]
  },
  {
   "cell_type": "code",
   "execution_count": 17,
   "id": "19544788-9615-4502-8ebe-2d0d1808af5a",
   "metadata": {},
   "outputs": [],
   "source": [
    "#Nested List\n",
    "n_list = [\"Happy\",[3,0,6,[9]]]"
   ]
  },
  {
   "cell_type": "code",
   "execution_count": 18,
   "id": "92420747-f13d-44ad-a90b-fe099c95ba0a",
   "metadata": {},
   "outputs": [
    {
     "data": {
      "text/plain": [
       "9"
      ]
     },
     "execution_count": 18,
     "metadata": {},
     "output_type": "execute_result"
    }
   ],
   "source": [
    "n_list[-1][3][-1]"
   ]
  },
  {
   "cell_type": "code",
   "execution_count": 19,
   "id": "7f0dcffb-a0f8-4619-9399-28d1378436f1",
   "metadata": {},
   "outputs": [
    {
     "data": {
      "text/plain": [
       "9"
      ]
     },
     "execution_count": 19,
     "metadata": {},
     "output_type": "execute_result"
    }
   ],
   "source": [
    "#Nested indexing\n",
    "n_list[-1][-1][-1]"
   ]
  },
  {
   "cell_type": "code",
   "execution_count": 20,
   "id": "45d09a82-309d-4109-8607-27f8e53ad49e",
   "metadata": {},
   "outputs": [],
   "source": [
    "#Negative indexing-python allows negative indexing for its sequences\n",
    "#The index 0f -1 refers to the last item ,-2 to the second last item and sequence\n",
    "my_list = ['k','d','r','y','w','u','o']"
   ]
  },
  {
   "cell_type": "code",
   "execution_count": 22,
   "id": "37d6f6ba-cb0a-4788-823b-bb9428e6577e",
   "metadata": {},
   "outputs": [
    {
     "data": {
      "text/plain": [
       "['k', 'd', 'r', 'y', 'w', 'u', 'o']"
      ]
     },
     "execution_count": 22,
     "metadata": {},
     "output_type": "execute_result"
    }
   ],
   "source": [
    "my_list[:]"
   ]
  },
  {
   "cell_type": "code",
   "execution_count": 23,
   "id": "6d6d9c0d-0982-4235-b67e-7b6ee330c568",
   "metadata": {},
   "outputs": [
    {
     "name": "stdout",
     "output_type": "stream",
     "text": [
      "w\n"
     ]
    }
   ],
   "source": [
    "print(my_list[4])"
   ]
  },
  {
   "cell_type": "code",
   "execution_count": 24,
   "id": "728f00ef-1fdf-42a6-911e-255d7de9acd3",
   "metadata": {},
   "outputs": [],
   "source": [
    "#slicing-we can access a range of items in a list by using the slicing open\n",
    "my_list = ['k','d','r','y','w','u','o']"
   ]
  },
  {
   "cell_type": "code",
   "execution_count": 25,
   "id": "4f26e073-bf0f-40f8-9611-548cc416b1c4",
   "metadata": {},
   "outputs": [
    {
     "data": {
      "text/plain": [
       "['k', 'd', 'r', 'y', 'w', 'u', 'o']"
      ]
     },
     "execution_count": 25,
     "metadata": {},
     "output_type": "execute_result"
    }
   ],
   "source": [
    "my_list[:]"
   ]
  },
  {
   "cell_type": "code",
   "execution_count": 26,
   "id": "3b576941-b5b0-40ef-994d-784d6b265bc3",
   "metadata": {},
   "outputs": [
    {
     "name": "stdout",
     "output_type": "stream",
     "text": [
      "['w', 'u']\n"
     ]
    }
   ],
   "source": [
    "#elements 3rd to 5th   #start:include      end:excluded\n",
    "print(my_list[4:6])"
   ]
  },
  {
   "cell_type": "code",
   "execution_count": 27,
   "id": "c99298e4-b4e7-4c5c-918c-62486d6a3bce",
   "metadata": {},
   "outputs": [
    {
     "name": "stdout",
     "output_type": "stream",
     "text": [
      "['o']\n"
     ]
    }
   ],
   "source": [
    "#elements 6th to end\n",
    "print(my_list[6:])"
   ]
  },
  {
   "cell_type": "code",
   "execution_count": 28,
   "id": "4b4480f1-1508-4536-a6c7-64d44e991940",
   "metadata": {},
   "outputs": [
    {
     "name": "stdout",
     "output_type": "stream",
     "text": [
      "['k', 'd', 'r', 'y', 'w', 'u', 'o']\n"
     ]
    }
   ],
   "source": [
    "#element begining to end\n",
    "print(my_list[:])"
   ]
  },
  {
   "cell_type": "code",
   "execution_count": 29,
   "id": "c3655bcc-7665-4856-bfad-a73747bac6bf",
   "metadata": {},
   "outputs": [],
   "source": [
    "#change the item value\n",
    "#To change the value of a specific item,refer to the index number\n",
    "l1[1] = \"blackcurrant\""
   ]
  },
  {
   "cell_type": "code",
   "execution_count": 30,
   "id": "2b15c714-3cc7-40d0-b275-a5a6a049a04b",
   "metadata": {},
   "outputs": [
    {
     "data": {
      "text/plain": [
       "['apple', 'blackcurrant', 'banana', 5, 'cherry', 46, 'banana']"
      ]
     },
     "execution_count": 30,
     "metadata": {},
     "output_type": "execute_result"
    }
   ],
   "source": [
    "l1"
   ]
  },
  {
   "cell_type": "code",
   "execution_count": 32,
   "id": "3c2ffd6b-3f98-452f-9807-1eafb0573b87",
   "metadata": {},
   "outputs": [
    {
     "data": {
      "text/plain": [
       "7"
      ]
     },
     "execution_count": 32,
     "metadata": {},
     "output_type": "execute_result"
    }
   ],
   "source": [
    "#list length\n",
    "#To determine how many items a list has use the len() method\n",
    "len(l1)"
   ]
  },
  {
   "cell_type": "code",
   "execution_count": 33,
   "id": "545b1a12-e85b-49ac-abac-791aae55f93d",
   "metadata": {},
   "outputs": [
    {
     "ename": "NameError",
     "evalue": "name 'append' is not defined",
     "output_type": "error",
     "traceback": [
      "\u001b[1;31m---------------------------------------------------------------------------\u001b[0m",
      "\u001b[1;31mNameError\u001b[0m                                 Traceback (most recent call last)",
      "Cell \u001b[1;32mIn[33], line 2\u001b[0m\n\u001b[0;32m      1\u001b[0m t\u001b[38;5;241m=\u001b[39m(\u001b[38;5;241m4\u001b[39m,\u001b[38;5;241m25\u001b[39m,\u001b[38;5;241m45\u001b[39m)\n\u001b[1;32m----> 2\u001b[0m t\u001b[38;5;241m=\u001b[39mappend(\u001b[38;5;124m\"\u001b[39m\u001b[38;5;124mAIS\u001b[39m\u001b[38;5;124m\"\u001b[39m)\n",
      "\u001b[1;31mNameError\u001b[0m: name 'append' is not defined"
     ]
    }
   ],
   "source": [
    "t=(4,25,45)\n",
    "t=append(\"AIS\")"
   ]
  },
  {
   "cell_type": "code",
   "execution_count": 3,
   "id": "e57ea95a-23be-4b1c-8b17-66687cbe3392",
   "metadata": {},
   "outputs": [],
   "source": [
    "#1-append()-appends an element to the end of the list.\n",
    "x=[\"apple\",\"banana\",\"cherry\",1,2,3]\n",
    "x.append(\"apple\")"
   ]
  },
  {
   "cell_type": "code",
   "execution_count": 4,
   "id": "5d6de53b-4978-4132-a1a1-252b5e5186c9",
   "metadata": {},
   "outputs": [
    {
     "data": {
      "text/plain": [
       "1"
      ]
     },
     "execution_count": 4,
     "metadata": {},
     "output_type": "execute_result"
    }
   ],
   "source": [
    "x.count(\"banana\")"
   ]
  },
  {
   "cell_type": "code",
   "execution_count": 9,
   "id": "de067d4a-c35a-4178-a97b-6b6740cd9b63",
   "metadata": {
    "scrolled": true
   },
   "outputs": [
    {
     "data": {
      "text/plain": [
       "'apple'"
      ]
     },
     "execution_count": 9,
     "metadata": {},
     "output_type": "execute_result"
    }
   ],
   "source": [
    "x.pop(-1)"
   ]
  },
  {
   "cell_type": "code",
   "execution_count": 10,
   "id": "ed8a23f9-960d-4c15-a874-a057831c2111",
   "metadata": {},
   "outputs": [
    {
     "data": {
      "text/plain": [
       "['apple', 'banana', 'cherry', 1, 2, 3]"
      ]
     },
     "execution_count": 10,
     "metadata": {},
     "output_type": "execute_result"
    }
   ],
   "source": [
    "#x.clear()\n",
    "x"
   ]
  },
  {
   "cell_type": "code",
   "execution_count": 11,
   "id": "f4712cf9-be91-45b4-9531-2f0f3b522cb2",
   "metadata": {},
   "outputs": [
    {
     "data": {
      "text/plain": [
       "['apple', 'banana', 'cherry', 1, 2, 3]"
      ]
     },
     "execution_count": 11,
     "metadata": {},
     "output_type": "execute_result"
    }
   ],
   "source": [
    "x1=x.copy()\n",
    "x1"
   ]
  },
  {
   "cell_type": "code",
   "execution_count": 12,
   "id": "0c6a4dff-c779-4cf1-8536-0b7db36b63c4",
   "metadata": {},
   "outputs": [],
   "source": [
    "x.reverse()"
   ]
  },
  {
   "cell_type": "code",
   "execution_count": 13,
   "id": "1b4250b0-3c65-4e86-82b0-d574761d69e7",
   "metadata": {},
   "outputs": [
    {
     "data": {
      "text/plain": [
       "[3, 2, 1, 'cherry', 'banana', 'apple']"
      ]
     },
     "execution_count": 13,
     "metadata": {},
     "output_type": "execute_result"
    }
   ],
   "source": [
    "x"
   ]
  },
  {
   "cell_type": "code",
   "execution_count": 14,
   "id": "300ba189-9a4c-4cfe-8e4d-f1668680cf42",
   "metadata": {},
   "outputs": [
    {
     "data": {
      "text/plain": [
       "4"
      ]
     },
     "execution_count": 14,
     "metadata": {},
     "output_type": "execute_result"
    }
   ],
   "source": [
    "x.index(\"banana\")"
   ]
  },
  {
   "cell_type": "code",
   "execution_count": 15,
   "id": "12eb0689-40e7-499f-a33a-444e63e45b65",
   "metadata": {},
   "outputs": [
    {
     "data": {
      "text/plain": [
       "[3, 2, 1, 'cherry', 'banana', 'apple', [100, 200, 300]]"
      ]
     },
     "execution_count": 15,
     "metadata": {},
     "output_type": "execute_result"
    }
   ],
   "source": [
    "#append : only one value\n",
    "#Extend : more than 2 value\n",
    "\n",
    "x.append([100,200,300])\n",
    "x"
   ]
  },
  {
   "cell_type": "code",
   "execution_count": 16,
   "id": "5331c115-01b8-4ed4-9b46-5bd51a864ada",
   "metadata": {},
   "outputs": [],
   "source": [
    "#2-clear()-returns all the elements from a list\n",
    "fruits=[1,2,3]"
   ]
  },
  {
   "cell_type": "code",
   "execution_count": 17,
   "id": "c588ed65-1b6c-4a69-b531-03bbfdad1025",
   "metadata": {},
   "outputs": [
    {
     "name": "stdout",
     "output_type": "stream",
     "text": [
      "[1, 2, 3]\n"
     ]
    }
   ],
   "source": [
    "print(fruits)"
   ]
  },
  {
   "cell_type": "code",
   "execution_count": 19,
   "id": "eb1162e8-92fd-4b42-b288-17892c6f2829",
   "metadata": {},
   "outputs": [],
   "source": [
    "#3-copy()-return a copy of the specified list\n",
    "fruits=['apple','banana','cherry','orange','cherry']"
   ]
  },
  {
   "cell_type": "code",
   "execution_count": 20,
   "id": "b18f7c0d-a503-4eb9-b75e-652e7c167a5d",
   "metadata": {},
   "outputs": [
    {
     "data": {
      "text/plain": [
       "['apple', 'banana', 'cherry', 'orange', 'cherry']"
      ]
     },
     "execution_count": 20,
     "metadata": {},
     "output_type": "execute_result"
    }
   ],
   "source": [
    "f2=fruits.copy()\n",
    "f2"
   ]
  },
  {
   "cell_type": "code",
   "execution_count": 21,
   "id": "7eb90eb3-8fe4-49ff-a8ad-9c4c6e6bec7c",
   "metadata": {},
   "outputs": [
    {
     "data": {
      "text/plain": [
       "2480900242880"
      ]
     },
     "execution_count": 21,
     "metadata": {},
     "output_type": "execute_result"
    }
   ],
   "source": [
    "id(f2)"
   ]
  },
  {
   "cell_type": "code",
   "execution_count": 22,
   "id": "d24bd278-d65c-4e9e-9cf9-c092da255d4e",
   "metadata": {},
   "outputs": [
    {
     "data": {
      "text/plain": [
       "2480900211008"
      ]
     },
     "execution_count": 22,
     "metadata": {},
     "output_type": "execute_result"
    }
   ],
   "source": [
    "id(fruits)"
   ]
  },
  {
   "cell_type": "code",
   "execution_count": 23,
   "id": "aac71965-e85b-492b-8092-cbf03c083f2f",
   "metadata": {},
   "outputs": [
    {
     "data": {
      "text/plain": [
       "['apple', 'banana', 'cherry', 'orange', 'cherry']"
      ]
     },
     "execution_count": 23,
     "metadata": {},
     "output_type": "execute_result"
    }
   ],
   "source": [
    "fruits"
   ]
  },
  {
   "cell_type": "code",
   "execution_count": 24,
   "id": "1a09c945-46a1-4bfc-937a-36524161cce5",
   "metadata": {},
   "outputs": [
    {
     "data": {
      "text/plain": [
       "'apple'"
      ]
     },
     "execution_count": 24,
     "metadata": {},
     "output_type": "execute_result"
    }
   ],
   "source": [
    "fruits.pop(0)"
   ]
  },
  {
   "cell_type": "code",
   "execution_count": 25,
   "id": "68ef4a6b-fda2-4a20-815d-f9a43f510ef7",
   "metadata": {},
   "outputs": [
    {
     "data": {
      "text/plain": [
       "['apple', 'banana', 'cherry', 'orange', 'cherry']"
      ]
     },
     "execution_count": 25,
     "metadata": {},
     "output_type": "execute_result"
    }
   ],
   "source": [
    "f2"
   ]
  },
  {
   "cell_type": "code",
   "execution_count": 26,
   "id": "1ba3cb45-2024-42d2-8b86-d292a88db0f0",
   "metadata": {},
   "outputs": [
    {
     "data": {
      "text/plain": [
       "2"
      ]
     },
     "execution_count": 26,
     "metadata": {},
     "output_type": "execute_result"
    }
   ],
   "source": [
    "#4-count()-returns the number of the element with the specified value\n",
    "fruits.count(\"cherry\")"
   ]
  },
  {
   "cell_type": "code",
   "execution_count": 27,
   "id": "191a8584-c4b1-4a9b-a970-99eb653f711f",
   "metadata": {},
   "outputs": [],
   "source": [
    "fruits=['apple','banana','cherry','orange','cherry']"
   ]
  },
  {
   "cell_type": "code",
   "execution_count": 29,
   "id": "616cff4a-4d42-4eae-a4f1-75df90f906ae",
   "metadata": {},
   "outputs": [
    {
     "data": {
      "text/plain": [
       "['food', 'BMW', 'Volva']"
      ]
     },
     "execution_count": 29,
     "metadata": {},
     "output_type": "execute_result"
    }
   ],
   "source": [
    "#5-extended()-adds the specified list elements (or any iterable) to the end\n",
    "cars=['food','BMW','Volva']\n",
    "cars"
   ]
  },
  {
   "cell_type": "raw",
   "id": "99cfefc6-5954-4946-9627-6c20b0d68bd1",
   "metadata": {},
   "source": [
    "fruits.append(cars)\n",
    "fruits"
   ]
  },
  {
   "cell_type": "code",
   "execution_count": 30,
   "id": "d350b583-2ba9-4df7-aa04-386b2e376f4b",
   "metadata": {},
   "outputs": [
    {
     "data": {
      "text/plain": [
       "5"
      ]
     },
     "execution_count": 30,
     "metadata": {},
     "output_type": "execute_result"
    }
   ],
   "source": [
    "len(fruits)"
   ]
  },
  {
   "cell_type": "code",
   "execution_count": 31,
   "id": "55cfc5f9-2ab7-4c22-8351-adc166d6fc1e",
   "metadata": {},
   "outputs": [],
   "source": [
    "fruits.extend(cars)"
   ]
  },
  {
   "cell_type": "code",
   "execution_count": 32,
   "id": "11ddf351-7759-42a8-88b0-77d1d3e233ff",
   "metadata": {},
   "outputs": [
    {
     "data": {
      "text/plain": [
       "0"
      ]
     },
     "execution_count": 32,
     "metadata": {},
     "output_type": "execute_result"
    }
   ],
   "source": [
    "#6-index()-returns the position at the position at the first occurance of the specified value\n",
    "fruits.index(\"apple\")"
   ]
  },
  {
   "cell_type": "code",
   "execution_count": 34,
   "id": "c0e1f5aa-f4dc-41fa-b983-0a64c9335fd9",
   "metadata": {},
   "outputs": [],
   "source": [
    "#7-insert()-inserts the specified value at the specified position\n",
    "fruits.insert(0,\"pune\")"
   ]
  },
  {
   "cell_type": "code",
   "execution_count": 35,
   "id": "7367f0b1-564b-4125-8717-7b85c9588c1e",
   "metadata": {},
   "outputs": [
    {
     "name": "stdout",
     "output_type": "stream",
     "text": [
      "['pune', 'apple', 'banana', 'cherry', 'orange', 'cherry', 'food', 'BMW', 'Volva']\n"
     ]
    }
   ],
   "source": [
    "print(fruits)"
   ]
  },
  {
   "cell_type": "code",
   "execution_count": 38,
   "id": "9ea665a0-4187-4a22-a39a-aa44020e1fa9",
   "metadata": {},
   "outputs": [
    {
     "data": {
      "text/plain": [
       "['pune', 'apple', 'banana', 'orange', 'food', 'BMW', 'Volva']"
      ]
     },
     "execution_count": 38,
     "metadata": {},
     "output_type": "execute_result"
    }
   ],
   "source": [
    "fruits.remove(\"cherry\")\n",
    "fruits"
   ]
  },
  {
   "cell_type": "code",
   "execution_count": 39,
   "id": "b18f1d15-fe1e-49ad-81af-8f179cbc9663",
   "metadata": {},
   "outputs": [],
   "source": [
    "#9-remove()-removes the specified item\n",
    "thislist = [\"apple\",\"banana\",\"cherry\"]"
   ]
  },
  {
   "cell_type": "code",
   "execution_count": 40,
   "id": "f267385b-2333-455a-971c-f08af5710bb5",
   "metadata": {},
   "outputs": [
    {
     "data": {
      "text/plain": [
       "['apple', 'banana', 'cherry']"
      ]
     },
     "execution_count": 40,
     "metadata": {},
     "output_type": "execute_result"
    }
   ],
   "source": [
    "thislist"
   ]
  },
  {
   "cell_type": "code",
   "execution_count": 41,
   "id": "bc4ece68-c82f-4025-94c4-dd9725069a78",
   "metadata": {},
   "outputs": [
    {
     "data": {
      "text/plain": [
       "[5, 4, 3, 2, 1]"
      ]
     },
     "execution_count": 41,
     "metadata": {},
     "output_type": "execute_result"
    }
   ],
   "source": [
    "r=[1,2,3,4,5]\n",
    "r.reverse()\n",
    "r"
   ]
  },
  {
   "cell_type": "code",
   "execution_count": 42,
   "id": "76c21fe6-4d58-4d55-914a-ba3d2f264f8a",
   "metadata": {},
   "outputs": [
    {
     "data": {
      "text/plain": [
       "['pune', 'apple', 'banana', 'orange', 'food', 'BMW', 'Volva']"
      ]
     },
     "execution_count": 42,
     "metadata": {},
     "output_type": "execute_result"
    }
   ],
   "source": [
    "fruits"
   ]
  },
  {
   "cell_type": "code",
   "execution_count": 43,
   "id": "6cffdc95-d344-4fb1-9a45-b63741ce29fd",
   "metadata": {},
   "outputs": [],
   "source": [
    "#10-sort()-sorts the list ascending by default\n",
    "r.sort()"
   ]
  },
  {
   "cell_type": "code",
   "execution_count": 44,
   "id": "270d0b44-a42b-4fe5-a2bc-65ee25550e5c",
   "metadata": {},
   "outputs": [
    {
     "data": {
      "text/plain": [
       "[1, 2, 3, 4, 5]"
      ]
     },
     "execution_count": 44,
     "metadata": {},
     "output_type": "execute_result"
    }
   ],
   "source": [
    "r"
   ]
  },
  {
   "cell_type": "code",
   "execution_count": 45,
   "id": "ece9b2f3-7c26-417f-84ed-e446ed674936",
   "metadata": {},
   "outputs": [
    {
     "data": {
      "text/plain": [
       "1"
      ]
     },
     "execution_count": 45,
     "metadata": {},
     "output_type": "execute_result"
    }
   ],
   "source": [
    "l=(1,2,3,4)\n",
    "l1=1\n",
    "l1"
   ]
  },
  {
   "cell_type": "code",
   "execution_count": 48,
   "id": "40ab83b9-c89a-4c6f-bed7-5c8566866f42",
   "metadata": {},
   "outputs": [
    {
     "data": {
      "text/plain": [
       "1"
      ]
     },
     "execution_count": 48,
     "metadata": {},
     "output_type": "execute_result"
    }
   ],
   "source": [
    "l1"
   ]
  },
  {
   "cell_type": "code",
   "execution_count": 49,
   "id": "39ec30dd-d70a-454e-86a0-637829759585",
   "metadata": {},
   "outputs": [
    {
     "data": {
      "text/plain": [
       "(1, 2, 3, 4)"
      ]
     },
     "execution_count": 49,
     "metadata": {},
     "output_type": "execute_result"
    }
   ],
   "source": [
    "l"
   ]
  },
  {
   "cell_type": "code",
   "execution_count": 50,
   "id": "e2d12dad-fe91-4faa-b376-1175cd9bc227",
   "metadata": {},
   "outputs": [
    {
     "data": {
      "text/plain": [
       "2480900449168"
      ]
     },
     "execution_count": 50,
     "metadata": {},
     "output_type": "execute_result"
    }
   ],
   "source": [
    "id(l)"
   ]
  },
  {
   "cell_type": "code",
   "execution_count": 51,
   "id": "71da0cb8-3291-40e3-b896-08ebc1acc09a",
   "metadata": {},
   "outputs": [
    {
     "data": {
      "text/plain": [
       "5"
      ]
     },
     "execution_count": 51,
     "metadata": {},
     "output_type": "execute_result"
    }
   ],
   "source": [
    "int(float(\"5.0\"))"
   ]
  },
  {
   "cell_type": "code",
   "execution_count": null,
   "id": "319ca877-fbed-47ac-9e2a-ad93f46f375f",
   "metadata": {},
   "outputs": [],
   "source": [
    "s"
   ]
  }
 ],
 "metadata": {
  "kernelspec": {
   "display_name": "Python 3 (ipykernel)",
   "language": "python",
   "name": "python3"
  },
  "language_info": {
   "codemirror_mode": {
    "name": "ipython",
    "version": 3
   },
   "file_extension": ".py",
   "mimetype": "text/x-python",
   "name": "python",
   "nbconvert_exporter": "python",
   "pygments_lexer": "ipython3",
   "version": "3.11.7"
  }
 },
 "nbformat": 4,
 "nbformat_minor": 5
}
