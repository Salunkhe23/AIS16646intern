{
 "cells": [
  {
   "cell_type": "code",
   "execution_count": 1,
   "id": "aaa94d19-4961-4a30-863e-c023a6ff5c97",
   "metadata": {},
   "outputs": [
    {
     "ename": "SyntaxError",
     "evalue": "invalid syntax (145919615.py, line 1)",
     "output_type": "error",
     "traceback": [
      "\u001b[1;36m  Cell \u001b[1;32mIn[1], line 1\u001b[1;36m\u001b[0m\n\u001b[1;33m    Python Conditions and If statements\u001b[0m\n\u001b[1;37m           ^\u001b[0m\n\u001b[1;31mSyntaxError\u001b[0m\u001b[1;31m:\u001b[0m invalid syntax\n"
     ]
    }
   ],
   "source": [
    "Python Conditions and If statements\n",
    "Python supports the usual logical conditions from mathematics:\n",
    "\n",
    "Equals: a == b\n",
    "Not Equals: a != b\n",
    "Less than: a < b\n",
    "Less than or equal to: a <= b\n",
    "Greater than: a > b\n",
    "Greater than or equal to: a >= b\n",
    "These conditions can be used in several ways, most commonly in \"if statements\" and loops.\n",
    "\n",
    "\n"
   ]
  },
  {
   "cell_type": "code",
   "execution_count": 3,
   "id": "ddb052e1-2d52-426c-88c2-70cf88fdab95",
   "metadata": {},
   "outputs": [
    {
     "name": "stdout",
     "output_type": "stream",
     "text": [
      "b is greater than a\n"
     ]
    }
   ],
   "source": [
    "#if - These conditions can be used in several ways, most commonly in \"if statements\" and loops.\n",
    "a=33\n",
    "b=200\n",
    "if b>a:\n",
    "    print(\"b is greater than a\")\n"
   ]
  },
  {
   "cell_type": "code",
   "execution_count": 4,
   "id": "46dbe867-0efc-43e0-b954-5496bb6aff03",
   "metadata": {},
   "outputs": [
    {
     "name": "stdout",
     "output_type": "stream",
     "text": [
      "b is less than a\n"
     ]
    }
   ],
   "source": [
    "a=400\n",
    "b=988\n",
    "if a<b:\n",
    "    print(\"b is less than a\")\n",
    "    "
   ]
  },
  {
   "cell_type": "code",
   "execution_count": 5,
   "id": "5301590b-2b91-45e2-b815-464c5fadaa8c",
   "metadata": {},
   "outputs": [],
   "source": [
    "#print \"Hello World\" if a is greater than b\n",
    "a=50\n",
    "b=10\n",
    "if a<b:\n",
    "    print(\"Hello World\")"
   ]
  },
  {
   "cell_type": "code",
   "execution_count": 6,
   "id": "7b740dec-dab4-4c7c-a955-e7c0a56e1b0f",
   "metadata": {},
   "outputs": [
    {
     "name": "stdout",
     "output_type": "stream",
     "text": [
      "a is equal to b\n"
     ]
    }
   ],
   "source": [
    "a=95\n",
    "b=95\n",
    "if a!=b:\n",
    "    print(\"a is equal to b\")"
   ]
  },
  {
   "cell_type": "code",
   "execution_count": 9,
   "id": "cde81205-3fee-4601-bb07-76d18c0fb8cb",
   "metadata": {},
   "outputs": [
    {
     "name": "stdout",
     "output_type": "stream",
     "text": [
      "a is gretter than b\n"
     ]
    }
   ],
   "source": [
    "a=6\n",
    "b=5\n",
    "if a>b:\n",
    "    print(\"a is gretter than b\")"
   ]
  },
  {
   "cell_type": "code",
   "execution_count": 10,
   "id": "8ec3840f-ec21-4caf-98be-4b18661c8b70",
   "metadata": {},
   "outputs": [
    {
     "name": "stdout",
     "output_type": "stream",
     "text": [
      "Number is positive\n"
     ]
    }
   ],
   "source": [
    "number=15\n",
    "if number>0:\n",
    "    print(\"Number is positive\")"
   ]
  },
  {
   "cell_type": "code",
   "execution_count": 12,
   "id": "696dd1c1-0bfe-46bb-862f-55630fd3262d",
   "metadata": {},
   "outputs": [
    {
     "name": "stdout",
     "output_type": "stream",
     "text": [
      "a is 6\n"
     ]
    }
   ],
   "source": [
    "a=6\n",
    "if a==6:\n",
    "    print(\"a is 6\")"
   ]
  },
  {
   "cell_type": "markdown",
   "id": "6a25d1d3-3863-47bc-b6c4-12a9e10a9983",
   "metadata": {},
   "source": []
  },
  {
   "cell_type": "code",
   "execution_count": null,
   "id": "6eda9d3e-db7f-4698-aaaa-da332ffaa9e1",
   "metadata": {},
   "outputs": [],
   "source": []
  }
 ],
 "metadata": {
  "kernelspec": {
   "display_name": "Python 3 (ipykernel)",
   "language": "python",
   "name": "python3"
  },
  "language_info": {
   "codemirror_mode": {
    "name": "ipython",
    "version": 3
   },
   "file_extension": ".py",
   "mimetype": "text/x-python",
   "name": "python",
   "nbconvert_exporter": "python",
   "pygments_lexer": "ipython3",
   "version": "3.11.7"
  }
 },
 "nbformat": 4,
 "nbformat_minor": 5
}
