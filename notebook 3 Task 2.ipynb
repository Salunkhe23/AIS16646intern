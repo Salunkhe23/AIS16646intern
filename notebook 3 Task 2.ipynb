{
 "cells": [
  {
   "cell_type": "code",
   "execution_count": null,
   "id": "10e66f19-728a-40f9-90d4-e8d66c6ae0e5",
   "metadata": {},
   "outputs": [],
   "source": [
    "if-elif condition is use to handle multiple condition to check in short.elif key condition were not true then try this condition"
   ]
  },
  {
   "cell_type": "code",
   "execution_count": 1,
   "id": "8b3b6497-a7ec-42d6-84dd-8383158611ee",
   "metadata": {},
   "outputs": [
    {
     "name": "stdout",
     "output_type": "stream",
     "text": [
      "a and b are equal\n"
     ]
    }
   ],
   "source": [
    "a=33\n",
    "b=33\n",
    "if b>a:\n",
    "    print(\"b is greater than a\")\n",
    "elif a==b:\n",
    "    print(\"a and b are equal\")"
   ]
  },
  {
   "cell_type": "code",
   "execution_count": 2,
   "id": "4106f4f3-85f8-4ae4-bf57-c9a344b08941",
   "metadata": {},
   "outputs": [
    {
     "name": "stdout",
     "output_type": "stream",
     "text": [
      "its the middle of the week day\n"
     ]
    }
   ],
   "source": [
    "day='thrusday'\n",
    "if day =='monday':\n",
    "    print('its the start of the week day')\n",
    "elif day =='thrusday':\n",
    "    print('its the middle of the week day')\n"
   ]
  },
  {
   "cell_type": "code",
   "execution_count": 3,
   "id": "f688382c-643d-41e7-8a5e-9b779ef36452",
   "metadata": {},
   "outputs": [
    {
     "name": "stdout",
     "output_type": "stream",
     "text": [
      "you are adult\n"
     ]
    }
   ],
   "source": [
    "age=20\n",
    "if age<18:\n",
    "    print(\"you are minor\")\n",
    "elif age>=18:\n",
    "    print(\"you are adult\")\n",
    "    \n"
   ]
  },
  {
   "cell_type": "code",
   "execution_count": 6,
   "id": "2a66f5d4-0f5e-480e-890b-d54f6d954efc",
   "metadata": {},
   "outputs": [
    {
     "name": "stdout",
     "output_type": "stream",
     "text": [
      "b is not greater than a\n"
     ]
    }
   ],
   "source": [
    "a=200\n",
    "b=30\n",
    "if b > a:\n",
    "    print(\"b is greater than a\")\n",
    "elif a>b:\n",
    "    print (\"b is not greater than a\")\n",
    "    "
   ]
  },
  {
   "cell_type": "code",
   "execution_count": 7,
   "id": "c2864ebb-30f6-4324-ab5a-c1bd5e37ae97",
   "metadata": {},
   "outputs": [
    {
     "name": "stdout",
     "output_type": "stream",
     "text": [
      "both condition are true\n"
     ]
    }
   ],
   "source": [
    "a=200\n",
    "b=33\n",
    "c=500\n",
    "if a > b and c > a:\n",
    "    print(\"both condition are true\")\n",
    "elif b >a  and a > c:\n",
    "    print(\"both condition are false\")\n"
   ]
  },
  {
   "cell_type": "code",
   "execution_count": 8,
   "id": "03a0f405-9306-49ee-afd2-2bbf5d252266",
   "metadata": {},
   "outputs": [
    {
     "name": "stdout",
     "output_type": "stream",
     "text": [
      "At least one of the condition is true\n"
     ]
    }
   ],
   "source": [
    "a=300\n",
    "b=44\n",
    "c=600\n",
    "if a > b and c > a:\n",
    "    print(\"At least one of the condition is true\")\n",
    "elif b >a  and a > c:\n",
    "    print(\"At least one of the condition is false\")\n",
    "\n"
   ]
  },
  {
   "cell_type": "code",
   "execution_count": 9,
   "id": "a4948d30-06f3-4130-bded-71623f582391",
   "metadata": {},
   "outputs": [
    {
     "name": "stdout",
     "output_type": "stream",
     "text": [
      "a is greater than b\n"
     ]
    }
   ],
   "source": [
    "a=33\n",
    "b=200\n",
    "if a>b:\n",
    "    print(\"a is not greater than b\")\n",
    "elif a<b:\n",
    "    print(\"a is greater than b\")"
   ]
  },
  {
   "cell_type": "code",
   "execution_count": 10,
   "id": "269604e2-6aff-4e34-ab95-80c72968f787",
   "metadata": {},
   "outputs": [
    {
     "name": "stdout",
     "output_type": "stream",
     "text": [
      "a is less than b\n"
     ]
    }
   ],
   "source": [
    "a=66\n",
    "b=300\n",
    "if a<b:\n",
    "    print(\"a is less than b\")\n",
    "elif b<a:\n",
    "    print(\"a is greater than b\")\n",
    "    "
   ]
  },
  {
   "cell_type": "code",
   "execution_count": null,
   "id": "bca0a125-c742-446f-96e9-6acf9fad6082",
   "metadata": {},
   "outputs": [],
   "source": []
  }
 ],
 "metadata": {
  "kernelspec": {
   "display_name": "Python 3 (ipykernel)",
   "language": "python",
   "name": "python3"
  },
  "language_info": {
   "codemirror_mode": {
    "name": "ipython",
    "version": 3
   },
   "file_extension": ".py",
   "mimetype": "text/x-python",
   "name": "python",
   "nbconvert_exporter": "python",
   "pygments_lexer": "ipython3",
   "version": "3.11.7"
  }
 },
 "nbformat": 4,
 "nbformat_minor": 5
}
