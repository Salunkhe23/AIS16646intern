{
 "cells": [
  {
   "cell_type": "code",
   "execution_count": 1,
   "id": "7059b9e0-3bf9-4a70-94ae-2ef086b8d083",
   "metadata": {},
   "outputs": [
    {
     "name": "stdout",
     "output_type": "stream",
     "text": [
      "b is not greater than a\n"
     ]
    }
   ],
   "source": [
    "#else\n",
    "a = 200\n",
    "b = 33\n",
    "if  b > a:\n",
    "    print(\"b is greater than a\")\n",
    "else:\n",
    "    print(\"b is not greater than a\")"
   ]
  },
  {
   "cell_type": "code",
   "execution_count": 2,
   "id": "25a174ff-1f6e-4973-8344-ec6f85bb4432",
   "metadata": {},
   "outputs": [
    {
     "name": "stdout",
     "output_type": "stream",
     "text": [
      "No\n"
     ]
    }
   ],
   "source": [
    "a=50\n",
    "b=10\n",
    "if a == b:\n",
    "    print(\"Yes\")\n",
    "else:\n",
    "    print(\"No\")"
   ]
  },
  {
   "cell_type": "code",
   "execution_count": 3,
   "id": "520c8fa2-9435-42e9-90c3-fdfa653b7701",
   "metadata": {},
   "outputs": [
    {
     "name": "stdout",
     "output_type": "stream",
     "text": [
      "a and b are equal\n"
     ]
    }
   ],
   "source": [
    "a=33\n",
    "b=33\n",
    "if b > a:\n",
    "    print(\"b is greater than a\")\n",
    "else:\n",
    "    print(\"a and b are equal\")"
   ]
  },
  {
   "cell_type": "code",
   "execution_count": 4,
   "id": "c8b1c218-f31d-47db-a283-1dba0ca27df0",
   "metadata": {},
   "outputs": [
    {
     "name": "stdout",
     "output_type": "stream",
     "text": [
      "its just another day\n"
     ]
    }
   ],
   "source": [
    "day='saturday'\n",
    "if day =='monday':\n",
    "    print('its the start of the week day')\n",
    "else:\n",
    "    print('its just another day')"
   ]
  },
  {
   "cell_type": "code",
   "execution_count": 5,
   "id": "d7ba57dc-6c95-4352-bb9a-9a1acd36f0f6",
   "metadata": {},
   "outputs": [
    {
     "name": "stdout",
     "output_type": "stream",
     "text": [
      "you are adult\n"
     ]
    }
   ],
   "source": [
    "age=20\n",
    "if age<18:\n",
    "    print(\"you are minor\")\n",
    "else:\n",
    "    print(\"you are adult\")"
   ]
  },
  {
   "cell_type": "code",
   "execution_count": 8,
   "id": "e332fcb8-85bf-4fdb-9b16-b103f3d96b65",
   "metadata": {},
   "outputs": [
    {
     "name": "stdin",
     "output_type": "stream",
     "text": [
      "Enter your age 26\n"
     ]
    },
    {
     "name": "stdout",
     "output_type": "stream",
     "text": [
      "your are 18-\n"
     ]
    }
   ],
   "source": [
    "age=int(input(\"Enter your age\"))\n",
    "if age <=18:\n",
    "    print(\"your are 18+\")\n",
    "else:\n",
    "    print(\"your are 18-\")"
   ]
  },
  {
   "cell_type": "code",
   "execution_count": 9,
   "id": "9b6c22ad-c159-49a1-8291-3352b5cc2052",
   "metadata": {},
   "outputs": [
    {
     "name": "stdin",
     "output_type": "stream",
     "text": [
      " nikita\n"
     ]
    },
    {
     "name": "stdout",
     "output_type": "stream",
     "text": [
      "Hello nikita\n"
     ]
    }
   ],
   "source": [
    "name=input()\n",
    "if (name=='pranita'):\n",
    "    print(\"Hello pranita\")\n",
    "else:\n",
    "    print(\"Hello nikita\")"
   ]
  },
  {
   "cell_type": "code",
   "execution_count": 10,
   "id": "b240d727-277a-42c1-a237-dad14cf9814f",
   "metadata": {},
   "outputs": [
    {
     "name": "stdout",
     "output_type": "stream",
     "text": [
      "you are adult\n"
     ]
    }
   ],
   "source": [
    "age=56\n",
    "if age>85:\n",
    "    print(\"your are minor\")\n",
    "else:\n",
    "    print(\"you are adult\")\n"
   ]
  },
  {
   "cell_type": "code",
   "execution_count": 11,
   "id": "abd44617-5f18-4a3c-a63e-0bd609030b57",
   "metadata": {},
   "outputs": [
    {
     "name": "stdout",
     "output_type": "stream",
     "text": [
      "number is positive\n"
     ]
    }
   ],
   "source": [
    "number=563\n",
    "if number>46:\n",
    "    print(\"number is positive\")\n",
    "else:\n",
    "    print(\"number is negative\")\n"
   ]
  },
  {
   "cell_type": "code",
   "execution_count": 1,
   "id": "4ac7a0bd-67fe-4f92-a2ea-b8fff513020e",
   "metadata": {},
   "outputs": [
    {
     "name": "stdout",
     "output_type": "stream",
     "text": [
      "b is less than a\n"
     ]
    }
   ],
   "source": [
    "a=300\n",
    "b=98\n",
    "if b<a:\n",
    "    print(\"b is less than a\")\n",
    "else:\n",
    "    print(\"b is gretter than a\")"
   ]
  },
  {
   "cell_type": "code",
   "execution_count": null,
   "id": "9c2fa1e6-632c-448f-a5ca-93b79ddca28a",
   "metadata": {},
   "outputs": [],
   "source": []
  }
 ],
 "metadata": {
  "kernelspec": {
   "display_name": "Python 3 (ipykernel)",
   "language": "python",
   "name": "python3"
  },
  "language_info": {
   "codemirror_mode": {
    "name": "ipython",
    "version": 3
   },
   "file_extension": ".py",
   "mimetype": "text/x-python",
   "name": "python",
   "nbconvert_exporter": "python",
   "pygments_lexer": "ipython3",
   "version": "3.11.7"
  }
 },
 "nbformat": 4,
 "nbformat_minor": 5
}
