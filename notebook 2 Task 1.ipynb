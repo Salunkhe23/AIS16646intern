{
 "cells": [
  {
   "cell_type": "code",
   "execution_count": 1,
   "id": "dfaf3318-0cf4-4146-9449-94e71cc48287",
   "metadata": {},
   "outputs": [],
   "source": [
    "#------operator in python----------------\n",
    "#Arithmatic Operator(+,-,*,/,**(power),%(modulus))\n",
    "#Assignment operator +=,-=,*=\n",
    "#comparision operator (>,<,==,!=,<=,>=)\n",
    "#Logical Operator(And,Or,Not)\n",
    "#idetify operators(is,is not)\n",
    "#membership operator(in,not in)"
   ]
  },
  {
   "cell_type": "code",
   "execution_count": 2,
   "id": "1e65c5e8-601c-40be-a8c9-c8ffafd016e2",
   "metadata": {},
   "outputs": [
    {
     "data": {
      "text/plain": [
       "3.75"
      ]
     },
     "execution_count": 2,
     "metadata": {},
     "output_type": "execute_result"
    }
   ],
   "source": [
    "#Arithmatic Operator(+,-,*,/,**(power),%(modulus))\n",
    "15/4"
   ]
  },
  {
   "cell_type": "code",
   "execution_count": 3,
   "id": "e0c252b5-b304-458d-ac1e-be8e5f9d5747",
   "metadata": {},
   "outputs": [
    {
     "name": "stdout",
     "output_type": "stream",
     "text": [
      "52\n"
     ]
    }
   ],
   "source": [
    "# Assignment operator\n",
    "#+=value\n",
    "#-=value\n",
    "#*=value\n",
    "#/=value\n",
    "\n",
    "x=65\n",
    "x-=13\n",
    "print(x)"
   ]
  },
  {
   "cell_type": "code",
   "execution_count": 4,
   "id": "a77faf45-9329-4bcb-ac58-db7dd3dc1e56",
   "metadata": {},
   "outputs": [],
   "source": [
    "x-=13   #x=x-13"
   ]
  },
  {
   "cell_type": "code",
   "execution_count": 2,
   "id": "289adeca-a689-4f69-814c-0e6b68862f7b",
   "metadata": {},
   "outputs": [
    {
     "data": {
      "text/plain": [
       "False"
      ]
     },
     "execution_count": 2,
     "metadata": {},
     "output_type": "execute_result"
    }
   ],
   "source": [
    "#comparision operators\n",
    "3!=3"
   ]
  },
  {
   "cell_type": "code",
   "execution_count": 3,
   "id": "5637391c-620b-4fc3-bdb9-3672b38c2532",
   "metadata": {},
   "outputs": [
    {
     "data": {
      "text/plain": [
       "False"
      ]
     },
     "execution_count": 3,
     "metadata": {},
     "output_type": "execute_result"
    }
   ],
   "source": [
    "8<=6"
   ]
  },
  {
   "cell_type": "code",
   "execution_count": 4,
   "id": "787e98cb-3e44-4897-bfac-e87a98542d2c",
   "metadata": {},
   "outputs": [
    {
     "data": {
      "text/plain": [
       "True"
      ]
     },
     "execution_count": 4,
     "metadata": {},
     "output_type": "execute_result"
    }
   ],
   "source": [
    "8<=8"
   ]
  },
  {
   "cell_type": "code",
   "execution_count": 5,
   "id": "44fe92c2-58a7-47dd-9ab1-618c201d4ae8",
   "metadata": {},
   "outputs": [
    {
     "data": {
      "text/plain": [
       "True"
      ]
     },
     "execution_count": 5,
     "metadata": {},
     "output_type": "execute_result"
    }
   ],
   "source": [
    "9==9"
   ]
  },
  {
   "cell_type": "code",
   "execution_count": 6,
   "id": "b268fb9e-9129-44d1-a494-e599d2a6afbb",
   "metadata": {},
   "outputs": [
    {
     "data": {
      "text/plain": [
       "True"
      ]
     },
     "execution_count": 6,
     "metadata": {},
     "output_type": "execute_result"
    }
   ],
   "source": [
    "7!=4"
   ]
  },
  {
   "cell_type": "code",
   "execution_count": 7,
   "id": "d242a8d4-f4dd-49f3-b752-08e5697d64a7",
   "metadata": {},
   "outputs": [
    {
     "data": {
      "text/plain": [
       "True"
      ]
     },
     "execution_count": 7,
     "metadata": {},
     "output_type": "execute_result"
    }
   ],
   "source": [
    "#Logical operator\n",
    "#And-Returns True if both statements are true\n",
    "X=5;\n",
    "X<7 or X<2"
   ]
  },
  {
   "cell_type": "code",
   "execution_count": 9,
   "id": "84e818f5-5104-45a0-b149-f139ac38158b",
   "metadata": {},
   "outputs": [
    {
     "data": {
      "text/plain": [
       "False"
      ]
     },
     "execution_count": 9,
     "metadata": {},
     "output_type": "execute_result"
    }
   ],
   "source": [
    "#or-Returns True if one of the statements is true\n",
    "x=8;\n",
    "x<6 and x<9"
   ]
  },
  {
   "cell_type": "code",
   "execution_count": 10,
   "id": "072681ca-9001-4b91-8cdc-f8aea00a1ba5",
   "metadata": {},
   "outputs": [
    {
     "data": {
      "text/plain": [
       "True"
      ]
     },
     "execution_count": 10,
     "metadata": {},
     "output_type": "execute_result"
    }
   ],
   "source": [
    "#not-reverse the result ,returns false if the result is true\n",
    "x=8;\n",
    "not(x<6 and x<0)"
   ]
  },
  {
   "cell_type": "code",
   "execution_count": 11,
   "id": "b6b3ad79-1f43-4de9-9c4a-869af266eff0",
   "metadata": {},
   "outputs": [
    {
     "name": "stderr",
     "output_type": "stream",
     "text": [
      "<>:3: SyntaxWarning: \"is\" with a literal. Did you mean \"==\"?\n",
      "<>:3: SyntaxWarning: \"is\" with a literal. Did you mean \"==\"?\n",
      "C:\\Users\\manea\\AppData\\Local\\Temp\\ipykernel_9912\\3359014716.py:3: SyntaxWarning: \"is\" with a literal. Did you mean \"==\"?\n",
      "  x is 60\n"
     ]
    },
    {
     "data": {
      "text/plain": [
       "True"
      ]
     },
     "execution_count": 11,
     "metadata": {},
     "output_type": "execute_result"
    }
   ],
   "source": [
    "#identify operators\n",
    "x=60\n",
    "x is 60"
   ]
  },
  {
   "cell_type": "code",
   "execution_count": 12,
   "id": "322cba2b-a54b-4d12-9ce4-0f9f1a74a362",
   "metadata": {},
   "outputs": [
    {
     "name": "stderr",
     "output_type": "stream",
     "text": [
      "<>:1: SyntaxWarning: \"is not\" with a literal. Did you mean \"!=\"?\n",
      "<>:1: SyntaxWarning: \"is not\" with a literal. Did you mean \"!=\"?\n",
      "C:\\Users\\manea\\AppData\\Local\\Temp\\ipykernel_9912\\40743567.py:1: SyntaxWarning: \"is not\" with a literal. Did you mean \"!=\"?\n",
      "  x is not 60\n"
     ]
    },
    {
     "data": {
      "text/plain": [
       "False"
      ]
     },
     "execution_count": 12,
     "metadata": {},
     "output_type": "execute_result"
    }
   ],
   "source": [
    "x is not 60"
   ]
  },
  {
   "cell_type": "code",
   "execution_count": 13,
   "id": "ce2e43af-6bc5-44b1-9a77-a34e8fe7accc",
   "metadata": {},
   "outputs": [],
   "source": [
    "#Membership operators\n",
    "x=(3,40,25,6,5)"
   ]
  },
  {
   "cell_type": "code",
   "execution_count": 14,
   "id": "c4cfb305-f7ea-47eb-8d17-c35849d6e16e",
   "metadata": {},
   "outputs": [
    {
     "data": {
      "text/plain": [
       "False"
      ]
     },
     "execution_count": 14,
     "metadata": {},
     "output_type": "execute_result"
    }
   ],
   "source": [
    "25 not in x"
   ]
  },
  {
   "cell_type": "code",
   "execution_count": 16,
   "id": "842cb162-a42c-4a13-bb1e-e95d6b1c0fb9",
   "metadata": {},
   "outputs": [
    {
     "data": {
      "text/plain": [
       "False"
      ]
     },
     "execution_count": 16,
     "metadata": {},
     "output_type": "execute_result"
    }
   ],
   "source": [
    "15 in x"
   ]
  },
  {
   "cell_type": "code",
   "execution_count": null,
   "id": "2a75b893-3069-41bd-9b05-3f3e815b4699",
   "metadata": {},
   "outputs": [],
   "source": []
  }
 ],
 "metadata": {
  "kernelspec": {
   "display_name": "Python 3 (ipykernel)",
   "language": "python",
   "name": "python3"
  },
  "language_info": {
   "codemirror_mode": {
    "name": "ipython",
    "version": 3
   },
   "file_extension": ".py",
   "mimetype": "text/x-python",
   "name": "python",
   "nbconvert_exporter": "python",
   "pygments_lexer": "ipython3",
   "version": "3.11.7"
  }
 },
 "nbformat": 4,
 "nbformat_minor": 5
}
